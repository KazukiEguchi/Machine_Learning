{
 "cells": [
  {
   "cell_type": "markdown",
   "metadata": {},
   "source": [
    "# 課題　クラウドファンデイングが成功するか事前に予測"
   ]
  },
  {
   "cell_type": "markdown",
   "metadata": {},
   "source": [
    "データセットはkickstarter Projectsを用いる。  \n",
    "クラウドファンデイングが成功するか失敗するかの2値分類問題で、使うモデルはロジスティック回帰である。  \n",
    "このデータにどんな項目があるのか見てみる。"
   ]
  },
  {
   "cell_type": "markdown",
   "metadata": {},
   "source": [
    "## 1. データについて\n",
    "### 1.1. 各項の意味\n",
    "![](date.pdf)\n",
    "このように15項目がある  \n",
    "意味が被っているものがあり、何をみるべきか考えるべきだ。"
   ]
  },
  {
   "cell_type": "markdown",
   "metadata": {},
   "source": [
    "### 1.2 データの確認、情報"
   ]
  },
  {
   "cell_type": "code",
   "execution_count": 1,
   "metadata": {},
   "outputs": [],
   "source": [
    "%matplotlib inline\n",
    "import pandas as pd\n",
    "import numpy as np\n",
    "import matplotlib.pyplot as plt\n",
    "from sklearn.linear_model import SGDClassifier\n",
    "from sklearn.metrics import log_loss, accuracy_score, confusion_matrix,recall_score,precision_score\n",
    "from sklearn.preprocessing import StandardScaler\n",
    "import seaborn as sns"
   ]
  },
  {
   "cell_type": "code",
   "execution_count": 2,
   "metadata": {},
   "outputs": [
    {
     "data": {
      "text/html": [
       "<div>\n",
       "<style scoped>\n",
       "    .dataframe tbody tr th:only-of-type {\n",
       "        vertical-align: middle;\n",
       "    }\n",
       "\n",
       "    .dataframe tbody tr th {\n",
       "        vertical-align: top;\n",
       "    }\n",
       "\n",
       "    .dataframe thead th {\n",
       "        text-align: right;\n",
       "    }\n",
       "</style>\n",
       "<table border=\"1\" class=\"dataframe\">\n",
       "  <thead>\n",
       "    <tr style=\"text-align: right;\">\n",
       "      <th></th>\n",
       "      <th>ID</th>\n",
       "      <th>name</th>\n",
       "      <th>category</th>\n",
       "      <th>main_category</th>\n",
       "      <th>currency</th>\n",
       "      <th>deadline</th>\n",
       "      <th>goal</th>\n",
       "      <th>launched</th>\n",
       "      <th>pledged</th>\n",
       "      <th>state</th>\n",
       "      <th>backers</th>\n",
       "      <th>country</th>\n",
       "      <th>usd pledged</th>\n",
       "      <th>usd_pledged_real</th>\n",
       "      <th>usd_goal_real</th>\n",
       "    </tr>\n",
       "  </thead>\n",
       "  <tbody>\n",
       "    <tr>\n",
       "      <th>0</th>\n",
       "      <td>1000002330</td>\n",
       "      <td>The Songs of Adelaide &amp; Abullah</td>\n",
       "      <td>Poetry</td>\n",
       "      <td>Publishing</td>\n",
       "      <td>GBP</td>\n",
       "      <td>2015-10-09</td>\n",
       "      <td>1000.0</td>\n",
       "      <td>2015-08-11 12:12:28</td>\n",
       "      <td>0.0</td>\n",
       "      <td>failed</td>\n",
       "      <td>0</td>\n",
       "      <td>GB</td>\n",
       "      <td>0.0</td>\n",
       "      <td>0.0</td>\n",
       "      <td>1533.95</td>\n",
       "    </tr>\n",
       "    <tr>\n",
       "      <th>1</th>\n",
       "      <td>1000003930</td>\n",
       "      <td>Greeting From Earth: ZGAC Arts Capsule For ET</td>\n",
       "      <td>Narrative Film</td>\n",
       "      <td>Film &amp; Video</td>\n",
       "      <td>USD</td>\n",
       "      <td>2017-11-01</td>\n",
       "      <td>30000.0</td>\n",
       "      <td>2017-09-02 04:43:57</td>\n",
       "      <td>2421.0</td>\n",
       "      <td>failed</td>\n",
       "      <td>15</td>\n",
       "      <td>US</td>\n",
       "      <td>100.0</td>\n",
       "      <td>2421.0</td>\n",
       "      <td>30000.00</td>\n",
       "    </tr>\n",
       "    <tr>\n",
       "      <th>2</th>\n",
       "      <td>1000004038</td>\n",
       "      <td>Where is Hank?</td>\n",
       "      <td>Narrative Film</td>\n",
       "      <td>Film &amp; Video</td>\n",
       "      <td>USD</td>\n",
       "      <td>2013-02-26</td>\n",
       "      <td>45000.0</td>\n",
       "      <td>2013-01-12 00:20:50</td>\n",
       "      <td>220.0</td>\n",
       "      <td>failed</td>\n",
       "      <td>3</td>\n",
       "      <td>US</td>\n",
       "      <td>220.0</td>\n",
       "      <td>220.0</td>\n",
       "      <td>45000.00</td>\n",
       "    </tr>\n",
       "    <tr>\n",
       "      <th>3</th>\n",
       "      <td>1000007540</td>\n",
       "      <td>ToshiCapital Rekordz Needs Help to Complete Album</td>\n",
       "      <td>Music</td>\n",
       "      <td>Music</td>\n",
       "      <td>USD</td>\n",
       "      <td>2012-04-16</td>\n",
       "      <td>5000.0</td>\n",
       "      <td>2012-03-17 03:24:11</td>\n",
       "      <td>1.0</td>\n",
       "      <td>failed</td>\n",
       "      <td>1</td>\n",
       "      <td>US</td>\n",
       "      <td>1.0</td>\n",
       "      <td>1.0</td>\n",
       "      <td>5000.00</td>\n",
       "    </tr>\n",
       "    <tr>\n",
       "      <th>4</th>\n",
       "      <td>1000011046</td>\n",
       "      <td>Community Film Project: The Art of Neighborhoo...</td>\n",
       "      <td>Film &amp; Video</td>\n",
       "      <td>Film &amp; Video</td>\n",
       "      <td>USD</td>\n",
       "      <td>2015-08-29</td>\n",
       "      <td>19500.0</td>\n",
       "      <td>2015-07-04 08:35:03</td>\n",
       "      <td>1283.0</td>\n",
       "      <td>canceled</td>\n",
       "      <td>14</td>\n",
       "      <td>US</td>\n",
       "      <td>1283.0</td>\n",
       "      <td>1283.0</td>\n",
       "      <td>19500.00</td>\n",
       "    </tr>\n",
       "  </tbody>\n",
       "</table>\n",
       "</div>"
      ],
      "text/plain": [
       "           ID                                               name  \\\n",
       "0  1000002330                    The Songs of Adelaide & Abullah   \n",
       "1  1000003930      Greeting From Earth: ZGAC Arts Capsule For ET   \n",
       "2  1000004038                                     Where is Hank?   \n",
       "3  1000007540  ToshiCapital Rekordz Needs Help to Complete Album   \n",
       "4  1000011046  Community Film Project: The Art of Neighborhoo...   \n",
       "\n",
       "         category main_category currency    deadline     goal  \\\n",
       "0          Poetry    Publishing      GBP  2015-10-09   1000.0   \n",
       "1  Narrative Film  Film & Video      USD  2017-11-01  30000.0   \n",
       "2  Narrative Film  Film & Video      USD  2013-02-26  45000.0   \n",
       "3           Music         Music      USD  2012-04-16   5000.0   \n",
       "4    Film & Video  Film & Video      USD  2015-08-29  19500.0   \n",
       "\n",
       "              launched  pledged     state  backers country  usd pledged  \\\n",
       "0  2015-08-11 12:12:28      0.0    failed        0      GB          0.0   \n",
       "1  2017-09-02 04:43:57   2421.0    failed       15      US        100.0   \n",
       "2  2013-01-12 00:20:50    220.0    failed        3      US        220.0   \n",
       "3  2012-03-17 03:24:11      1.0    failed        1      US          1.0   \n",
       "4  2015-07-04 08:35:03   1283.0  canceled       14      US       1283.0   \n",
       "\n",
       "   usd_pledged_real  usd_goal_real  \n",
       "0               0.0        1533.95  \n",
       "1            2421.0       30000.00  \n",
       "2             220.0       45000.00  \n",
       "3               1.0        5000.00  \n",
       "4            1283.0       19500.00  "
      ]
     },
     "execution_count": 2,
     "metadata": {},
     "output_type": "execute_result"
    }
   ],
   "source": [
    "df_kickstarter = pd.read_csv(\"ks-projects-201801.csv\")\n",
    "\n",
    "df_kickstarter.head()"
   ]
  },
  {
   "cell_type": "code",
   "execution_count": 3,
   "metadata": {},
   "outputs": [
    {
     "name": "stdout",
     "output_type": "stream",
     "text": [
      "<class 'pandas.core.frame.DataFrame'>\n",
      "RangeIndex: 378661 entries, 0 to 378660\n",
      "Data columns (total 15 columns):\n",
      " #   Column            Non-Null Count   Dtype  \n",
      "---  ------            --------------   -----  \n",
      " 0   ID                378661 non-null  int64  \n",
      " 1   name              378657 non-null  object \n",
      " 2   category          378661 non-null  object \n",
      " 3   main_category     378661 non-null  object \n",
      " 4   currency          378661 non-null  object \n",
      " 5   deadline          378661 non-null  object \n",
      " 6   goal              378661 non-null  float64\n",
      " 7   launched          378661 non-null  object \n",
      " 8   pledged           378661 non-null  float64\n",
      " 9   state             378661 non-null  object \n",
      " 10  backers           378661 non-null  int64  \n",
      " 11  country           378661 non-null  object \n",
      " 12  usd pledged       374864 non-null  float64\n",
      " 13  usd_pledged_real  378661 non-null  float64\n",
      " 14  usd_goal_real     378661 non-null  float64\n",
      "dtypes: float64(5), int64(2), object(8)\n",
      "memory usage: 43.3+ MB\n"
     ]
    }
   ],
   "source": [
    "df_kickstarter.info()"
   ]
  },
  {
   "cell_type": "markdown",
   "metadata": {},
   "source": [
    "データの総数は378661である。  \n",
    "欠損値がありそうなので確認。"
   ]
  },
  {
   "cell_type": "code",
   "execution_count": 4,
   "metadata": {},
   "outputs": [
    {
     "data": {
      "text/plain": [
       "ID                     0\n",
       "name                   4\n",
       "category               0\n",
       "main_category          0\n",
       "currency               0\n",
       "deadline               0\n",
       "goal                   0\n",
       "launched               0\n",
       "pledged                0\n",
       "state                  0\n",
       "backers                0\n",
       "country                0\n",
       "usd pledged         3797\n",
       "usd_pledged_real       0\n",
       "usd_goal_real          0\n",
       "dtype: int64"
      ]
     },
     "execution_count": 4,
     "metadata": {},
     "output_type": "execute_result"
    }
   ],
   "source": [
    "df_kickstarter.isnull().sum()"
   ]
  },
  {
   "cell_type": "markdown",
   "metadata": {},
   "source": [
    "nameが4つ、usd pledgedが3797個欠損値ある。  \n",
    "この欠損値をどう処理するか次見てみる。"
   ]
  },
  {
   "cell_type": "markdown",
   "metadata": {},
   "source": [
    "## 2. 欠損値処理\n",
    "先ほど2つの項目で欠損値が見られた。このままではモデルに使えないので処理してこう\n",
    "### 2.1 name\n",
    "データ数3786661に対して欠損値は4。テストデータも豊富で、欠損値も少ないので単純に欠損値のものを省こう。"
   ]
  },
  {
   "cell_type": "code",
   "execution_count": 5,
   "metadata": {},
   "outputs": [],
   "source": [
    "df_drop_name_kickstarter = df_kickstarter.dropna(subset=['name'])"
   ]
  },
  {
   "cell_type": "markdown",
   "metadata": {},
   "source": [
    "### 2.2 usd pledged\n",
    "この項目は集まった資金の米ドル換算であるが、同じ意味の項目のusd_pledged_realがある。  \n",
    "usd pledgedとusd_pledged_realの違いは換算の方法であるが、usd_pledged_realの方がusd_goal_realと換算方法も同じで扱いやすい。  \n",
    "欠損値のあるusd pledgedの列は無視しよう。"
   ]
  },
  {
   "cell_type": "code",
   "execution_count": 6,
   "metadata": {},
   "outputs": [
    {
     "name": "stdout",
     "output_type": "stream",
     "text": [
      "<class 'pandas.core.frame.DataFrame'>\n",
      "Int64Index: 378657 entries, 0 to 378660\n",
      "Data columns (total 14 columns):\n",
      " #   Column            Non-Null Count   Dtype  \n",
      "---  ------            --------------   -----  \n",
      " 0   ID                378657 non-null  int64  \n",
      " 1   name              378657 non-null  object \n",
      " 2   category          378657 non-null  object \n",
      " 3   main_category     378657 non-null  object \n",
      " 4   currency          378657 non-null  object \n",
      " 5   deadline          378657 non-null  object \n",
      " 6   goal              378657 non-null  float64\n",
      " 7   launched          378657 non-null  object \n",
      " 8   pledged           378657 non-null  float64\n",
      " 9   state             378657 non-null  object \n",
      " 10  backers           378657 non-null  int64  \n",
      " 11  country           378657 non-null  object \n",
      " 12  usd_pledged_real  378657 non-null  float64\n",
      " 13  usd_goal_real     378657 non-null  float64\n",
      "dtypes: float64(4), int64(2), object(8)\n",
      "memory usage: 43.3+ MB\n"
     ]
    },
    {
     "data": {
      "text/plain": [
       "ID                  0\n",
       "name                0\n",
       "category            0\n",
       "main_category       0\n",
       "currency            0\n",
       "deadline            0\n",
       "goal                0\n",
       "launched            0\n",
       "pledged             0\n",
       "state               0\n",
       "backers             0\n",
       "country             0\n",
       "usd_pledged_real    0\n",
       "usd_goal_real       0\n",
       "dtype: int64"
      ]
     },
     "execution_count": 6,
     "metadata": {},
     "output_type": "execute_result"
    }
   ],
   "source": [
    "df_drop_kickstarter = df_drop_name_kickstarter.drop([\"usd pledged\"],axis = 1)\n",
    "df_drop_kickstarter.info()\n",
    "df_drop_kickstarter.isnull().sum()"
   ]
  },
  {
   "cell_type": "markdown",
   "metadata": {},
   "source": [
    "欠損値はなくなり、項目数は14になり、データ数は378657になった。"
   ]
  },
  {
   "cell_type": "markdown",
   "metadata": {},
   "source": [
    "## 3. 目的変数と説明変数\n",
    "処理がしやすいように、bool値や数値に変換できるものはする。  \n",
    "また意味のない変数は落としていく。\n",
    "### 3.1 目的変数 (state)\n",
    "目的変数はプロジェクトの状態を表すstateである。  \n",
    "どんなものがあるか見てみると"
   ]
  },
  {
   "cell_type": "code",
   "execution_count": 7,
   "metadata": {},
   "outputs": [
    {
     "data": {
      "text/plain": [
       "failed        197716\n",
       "successful    133956\n",
       "canceled       38779\n",
       "undefined       3562\n",
       "live            2799\n",
       "suspended       1845\n",
       "Name: state, dtype: int64"
      ]
     },
     "execution_count": 7,
     "metadata": {},
     "output_type": "execute_result"
    }
   ],
   "source": [
    "df_drop_kickstarter.state.value_counts()"
   ]
  },
  {
   "cell_type": "markdown",
   "metadata": {},
   "source": [
    "成功か失敗かを予測したいので、failedとsuccessfulだけにして、他は捨てた方が良いだろう。  \n",
    "また、扱いやすいように\"True\"、\"False\"のbool値に"
   ]
  },
  {
   "cell_type": "code",
   "execution_count": 8,
   "metadata": {},
   "outputs": [
    {
     "data": {
      "text/plain": [
       "False    197716\n",
       "True     133956\n",
       "Name: state, dtype: int64"
      ]
     },
     "execution_count": 8,
     "metadata": {},
     "output_type": "execute_result"
    }
   ],
   "source": [
    "df_drop_kickstarter = df_drop_kickstarter[(df_drop_kickstarter[\"state\"] == \"failed\") | (df_drop_kickstarter[\"state\"] == \"successful\")]\n",
    "df_drop_kickstarter[\"state\"] = (df_drop_kickstarter[\"state\"] == \"successful\")\n",
    "df_drop_kickstarter.state.value_counts()"
   ]
  },
  {
   "cell_type": "markdown",
   "metadata": {},
   "source": [
    "### 3.2 説明変数\n",
    "今、説明変数は13個ある。  \n",
    "取捨選択や変数をまとめてみる。  \n",
    "また詳しい統計は別ファイルの[kickstarter.html](kickstarter.html)にある。これも参考にする\n",
    "### 3.2.1 意味が被っているもの\n",
    "カテゴリはcategoryとmain_categoryがある。  \n",
    "[kickstarter.html](kickstarter.html)をみるとdistinctがcategoryは159、main_categoryは15。少ない方がまとまっていて扱いやすいのでmain_categoryを採用。\n",
    "\n",
    "集まった資金とゴール額が2つずつある。それぞれ米ドル換算した方が比較しやすいのでusd_pledged_real、usd_goal_realを採用。"
   ]
  },
  {
   "cell_type": "code",
   "execution_count": 9,
   "metadata": {},
   "outputs": [],
   "source": [
    "df_date = df_drop_kickstarter.drop([\"category\",\"pledged\",\"goal\"],axis = 1)"
   ]
  },
  {
   "cell_type": "markdown",
   "metadata": {},
   "source": [
    "### 3.2.2 2変数を1つに\n",
    "launchedとdeadlineはその日に大きな意味を持つより、deadlineからlaunchedを引いた期間の方が重要そう。また、1つにまとまって良い。"
   ]
  },
  {
   "cell_type": "code",
   "execution_count": 10,
   "metadata": {},
   "outputs": [
    {
     "name": "stdout",
     "output_type": "stream",
     "text": [
      "object\n",
      "datetime64[ns]\n",
      "timedelta64[ns]\n"
     ]
    }
   ],
   "source": [
    "#今launchedとdeadlineの型\n",
    "print(df_date.launched.dtype)\n",
    "#datetime型に変換\n",
    "df_date.launched = pd.to_datetime(df_date[\"launched\"])\n",
    "df_date.deadline = pd.to_datetime(df_date[\"deadline\"])\n",
    "print(df_date.launched.dtype)\n",
    "#クラウドファンディング期間を求める\n",
    "df_date[\"Days\"]=df_date[\"deadline\"]-df_date[\"launched\"]\n",
    "print(df_date.Days.dtype)\n",
    "#細かいデータでなく日数にする。pd.Seriesの日付属性dayを使って\n",
    "df_date[\"Days\"] = df_date[\"Days\"].dt.days\n",
    "df_date = df_date.drop([\"launched\",\"deadline\"],axis = 1)"
   ]
  },
  {
   "cell_type": "markdown",
   "metadata": {},
   "source": [
    "### 3.2.3 予測に役立たないもの、使っていけないもの\n",
    "明らかにIDと名前はいらないだろう"
   ]
  },
  {
   "cell_type": "code",
   "execution_count": 11,
   "metadata": {},
   "outputs": [],
   "source": [
    "df_date = df_date.drop([\"ID\",\"name\"],axis = 1)"
   ]
  },
  {
   "cell_type": "markdown",
   "metadata": {},
   "source": [
    "また、予測に使っていけないと思われる変数がある。  \n",
    "それは予測時に持っていない変数。つまりクラウドファンディング後に得られる変数である。  \n",
    "集まった資金と支援者の項目は消そう。usd_pledged_realとbackers"
   ]
  },
  {
   "cell_type": "code",
   "execution_count": 12,
   "metadata": {},
   "outputs": [
    {
     "data": {
      "text/html": [
       "<div>\n",
       "<style scoped>\n",
       "    .dataframe tbody tr th:only-of-type {\n",
       "        vertical-align: middle;\n",
       "    }\n",
       "\n",
       "    .dataframe tbody tr th {\n",
       "        vertical-align: top;\n",
       "    }\n",
       "\n",
       "    .dataframe thead th {\n",
       "        text-align: right;\n",
       "    }\n",
       "</style>\n",
       "<table border=\"1\" class=\"dataframe\">\n",
       "  <thead>\n",
       "    <tr style=\"text-align: right;\">\n",
       "      <th></th>\n",
       "      <th>main_category</th>\n",
       "      <th>currency</th>\n",
       "      <th>state</th>\n",
       "      <th>country</th>\n",
       "      <th>usd_goal_real</th>\n",
       "      <th>Days</th>\n",
       "    </tr>\n",
       "  </thead>\n",
       "  <tbody>\n",
       "    <tr>\n",
       "      <th>0</th>\n",
       "      <td>Publishing</td>\n",
       "      <td>GBP</td>\n",
       "      <td>False</td>\n",
       "      <td>GB</td>\n",
       "      <td>1533.95</td>\n",
       "      <td>58</td>\n",
       "    </tr>\n",
       "    <tr>\n",
       "      <th>1</th>\n",
       "      <td>Film &amp; Video</td>\n",
       "      <td>USD</td>\n",
       "      <td>False</td>\n",
       "      <td>US</td>\n",
       "      <td>30000.00</td>\n",
       "      <td>59</td>\n",
       "    </tr>\n",
       "    <tr>\n",
       "      <th>2</th>\n",
       "      <td>Film &amp; Video</td>\n",
       "      <td>USD</td>\n",
       "      <td>False</td>\n",
       "      <td>US</td>\n",
       "      <td>45000.00</td>\n",
       "      <td>44</td>\n",
       "    </tr>\n",
       "    <tr>\n",
       "      <th>3</th>\n",
       "      <td>Music</td>\n",
       "      <td>USD</td>\n",
       "      <td>False</td>\n",
       "      <td>US</td>\n",
       "      <td>5000.00</td>\n",
       "      <td>29</td>\n",
       "    </tr>\n",
       "    <tr>\n",
       "      <th>5</th>\n",
       "      <td>Food</td>\n",
       "      <td>USD</td>\n",
       "      <td>True</td>\n",
       "      <td>US</td>\n",
       "      <td>50000.00</td>\n",
       "      <td>34</td>\n",
       "    </tr>\n",
       "  </tbody>\n",
       "</table>\n",
       "</div>"
      ],
      "text/plain": [
       "  main_category currency  state country  usd_goal_real  Days\n",
       "0    Publishing      GBP  False      GB        1533.95    58\n",
       "1  Film & Video      USD  False      US       30000.00    59\n",
       "2  Film & Video      USD  False      US       45000.00    44\n",
       "3         Music      USD  False      US        5000.00    29\n",
       "5          Food      USD   True      US       50000.00    34"
      ]
     },
     "execution_count": 12,
     "metadata": {},
     "output_type": "execute_result"
    }
   ],
   "source": [
    "df_date = df_date.drop([\"usd_pledged_real\",\"backers\"],axis = 1)\n",
    "df_date.head()"
   ]
  },
  {
   "cell_type": "markdown",
   "metadata": {},
   "source": [
    "こんな感じになった。  \n",
    "説明変数は5つになった。ちょっと削りすぎたかな？  \n",
    "データ数もstateで削ったので331672個。十分にあるだろう。"
   ]
  },
  {
   "cell_type": "markdown",
   "metadata": {},
   "source": [
    "## 4. 目的変数と説明変数の関係\n",
    "### 4.1 ゴール額と期間"
   ]
  },
  {
   "cell_type": "code",
   "execution_count": 13,
   "metadata": {},
   "outputs": [
    {
     "data": {
      "text/html": [
       "<div>\n",
       "<style scoped>\n",
       "    .dataframe tbody tr th:only-of-type {\n",
       "        vertical-align: middle;\n",
       "    }\n",
       "\n",
       "    .dataframe tbody tr th {\n",
       "        vertical-align: top;\n",
       "    }\n",
       "\n",
       "    .dataframe thead th {\n",
       "        text-align: right;\n",
       "    }\n",
       "</style>\n",
       "<table border=\"1\" class=\"dataframe\">\n",
       "  <thead>\n",
       "    <tr style=\"text-align: right;\">\n",
       "      <th></th>\n",
       "      <th>state</th>\n",
       "      <th>usd_goal_real</th>\n",
       "      <th>Days</th>\n",
       "    </tr>\n",
       "  </thead>\n",
       "  <tbody>\n",
       "    <tr>\n",
       "      <th>state</th>\n",
       "      <td>1.000000</td>\n",
       "      <td>-0.023735</td>\n",
       "      <td>-0.116438</td>\n",
       "    </tr>\n",
       "    <tr>\n",
       "      <th>usd_goal_real</th>\n",
       "      <td>-0.023735</td>\n",
       "      <td>1.000000</td>\n",
       "      <td>0.021606</td>\n",
       "    </tr>\n",
       "    <tr>\n",
       "      <th>Days</th>\n",
       "      <td>-0.116438</td>\n",
       "      <td>0.021606</td>\n",
       "      <td>1.000000</td>\n",
       "    </tr>\n",
       "  </tbody>\n",
       "</table>\n",
       "</div>"
      ],
      "text/plain": [
       "                  state  usd_goal_real      Days\n",
       "state          1.000000      -0.023735 -0.116438\n",
       "usd_goal_real -0.023735       1.000000  0.021606\n",
       "Days          -0.116438       0.021606  1.000000"
      ]
     },
     "execution_count": 13,
     "metadata": {},
     "output_type": "execute_result"
    }
   ],
   "source": [
    "# 相関係数を確認\n",
    "df_date_num = df_date.loc[:,[\"state\",\"usd_goal_real\",\"Days\"]]\n",
    "df_date_num.corr()"
   ]
  },
  {
   "cell_type": "code",
   "execution_count": 14,
   "metadata": {},
   "outputs": [
    {
     "data": {
      "image/png": "[encoded data removed]",
      "text/plain": [
       "<Figure size 432x288 with 2 Axes>"
      ]
     },
     "metadata": {
      "needs_background": "light"
     },
     "output_type": "display_data"
    }
   ],
   "source": [
    "# 相関係数をヒートマップにして可視化\n",
    "sns.heatmap(df_date_num.corr())\n",
    "plt.show()"
   ]
  },
  {
   "cell_type": "markdown",
   "metadata": {},
   "source": [
    "数値のものはこんな感じになった。  \n",
    "objectの相関はこうなった。1が成功、0が失敗"
   ]
  },
  {
   "cell_type": "markdown",
   "metadata": {},
   "source": [
    "### 4.2 メインカテゴリ"
   ]
  },
  {
   "cell_type": "code",
   "execution_count": 15,
   "metadata": {},
   "outputs": [
    {
     "data": {
      "text/plain": [
       "<AxesSubplot:xlabel='count', ylabel='main_category'>"
      ]
     },
     "execution_count": 15,
     "metadata": {},
     "output_type": "execute_result"
    },
    {
     "data": {
      "image/png": "[encoded data removed]",
      "text/plain": [
       "<Figure size 432x288 with 1 Axes>"
      ]
     },
     "metadata": {
      "needs_background": "light"
     },
     "output_type": "display_data"
    }
   ],
   "source": [
    "sns.countplot(y=\"main_category\", hue=\"state\", hue_order=[1,0], data=df_date)"
   ]
  },
  {
   "cell_type": "markdown",
   "metadata": {},
   "source": [
    "### 4.3 使用通貨"
   ]
  },
  {
   "cell_type": "code",
   "execution_count": 16,
   "metadata": {},
   "outputs": [
    {
     "data": {
      "text/plain": [
       "<AxesSubplot:xlabel='count', ylabel='currency'>"
      ]
     },
     "execution_count": 16,
     "metadata": {},
     "output_type": "execute_result"
    },
    {
     "data": {
      "image/png": "[encoded data removed]",
      "text/plain": [
       "<Figure size 432x288 with 1 Axes>"
      ]
     },
     "metadata": {
      "needs_background": "light"
     },
     "output_type": "display_data"
    }
   ],
   "source": [
    "sns.countplot(y=\"currency\", hue=\"state\", hue_order=[1,0], data=df_date)"
   ]
  },
  {
   "cell_type": "markdown",
   "metadata": {},
   "source": [
    "### 4.4 プロジェクトが開かれた国"
   ]
  },
  {
   "cell_type": "code",
   "execution_count": 17,
   "metadata": {},
   "outputs": [
    {
     "data": {
      "text/plain": [
       "<AxesSubplot:xlabel='count', ylabel='country'>"
      ]
     },
     "execution_count": 17,
     "metadata": {},
     "output_type": "execute_result"
    },
    {
     "data": {
      "image/png": "[encoded data removed]",
      "text/plain": [
       "<Figure size 432x288 with 1 Axes>"
      ]
     },
     "metadata": {
      "needs_background": "light"
     },
     "output_type": "display_data"
    }
   ],
   "source": [
    "sns.countplot(y=\"country\", hue=\"state\", hue_order=[1,0], data=df_date)"
   ]
  },
  {
   "cell_type": "markdown",
   "metadata": {},
   "source": [
    "## 5. ロジスティック回帰\n",
    "### 5.1. 質的変数をダミー変数に\n",
    "このままではモデルに入れれないので、ダミー変数に変化させる。"
   ]
  },
  {
   "cell_type": "code",
   "execution_count": 22,
   "metadata": {},
   "outputs": [
    {
     "data": {
      "text/html": [
       "<div>\n",
       "<style scoped>\n",
       "    .dataframe tbody tr th:only-of-type {\n",
       "        vertical-align: middle;\n",
       "    }\n",
       "\n",
       "    .dataframe tbody tr th {\n",
       "        vertical-align: top;\n",
       "    }\n",
       "\n",
       "    .dataframe thead th {\n",
       "        text-align: right;\n",
       "    }\n",
       "</style>\n",
       "<table border=\"1\" class=\"dataframe\">\n",
       "  <thead>\n",
       "    <tr style=\"text-align: right;\">\n",
       "      <th></th>\n",
       "      <th>state</th>\n",
       "      <th>usd_goal_real</th>\n",
       "      <th>Days</th>\n",
       "      <th>main_category_Art</th>\n",
       "      <th>main_category_Comics</th>\n",
       "      <th>main_category_Crafts</th>\n",
       "      <th>main_category_Dance</th>\n",
       "      <th>main_category_Design</th>\n",
       "      <th>main_category_Fashion</th>\n",
       "      <th>main_category_Film &amp; Video</th>\n",
       "      <th>...</th>\n",
       "      <th>country_JP</th>\n",
       "      <th>country_LU</th>\n",
       "      <th>country_MX</th>\n",
       "      <th>country_N,0\"</th>\n",
       "      <th>country_NL</th>\n",
       "      <th>country_NO</th>\n",
       "      <th>country_NZ</th>\n",
       "      <th>country_SE</th>\n",
       "      <th>country_SG</th>\n",
       "      <th>country_US</th>\n",
       "    </tr>\n",
       "  </thead>\n",
       "  <tbody>\n",
       "    <tr>\n",
       "      <th>0</th>\n",
       "      <td>False</td>\n",
       "      <td>1533.95</td>\n",
       "      <td>58</td>\n",
       "      <td>0</td>\n",
       "      <td>0</td>\n",
       "      <td>0</td>\n",
       "      <td>0</td>\n",
       "      <td>0</td>\n",
       "      <td>0</td>\n",
       "      <td>0</td>\n",
       "      <td>...</td>\n",
       "      <td>0</td>\n",
       "      <td>0</td>\n",
       "      <td>0</td>\n",
       "      <td>0</td>\n",
       "      <td>0</td>\n",
       "      <td>0</td>\n",
       "      <td>0</td>\n",
       "      <td>0</td>\n",
       "      <td>0</td>\n",
       "      <td>0</td>\n",
       "    </tr>\n",
       "    <tr>\n",
       "      <th>1</th>\n",
       "      <td>False</td>\n",
       "      <td>30000.00</td>\n",
       "      <td>59</td>\n",
       "      <td>0</td>\n",
       "      <td>0</td>\n",
       "      <td>0</td>\n",
       "      <td>0</td>\n",
       "      <td>0</td>\n",
       "      <td>0</td>\n",
       "      <td>1</td>\n",
       "      <td>...</td>\n",
       "      <td>0</td>\n",
       "      <td>0</td>\n",
       "      <td>0</td>\n",
       "      <td>0</td>\n",
       "      <td>0</td>\n",
       "      <td>0</td>\n",
       "      <td>0</td>\n",
       "      <td>0</td>\n",
       "      <td>0</td>\n",
       "      <td>1</td>\n",
       "    </tr>\n",
       "    <tr>\n",
       "      <th>2</th>\n",
       "      <td>False</td>\n",
       "      <td>45000.00</td>\n",
       "      <td>44</td>\n",
       "      <td>0</td>\n",
       "      <td>0</td>\n",
       "      <td>0</td>\n",
       "      <td>0</td>\n",
       "      <td>0</td>\n",
       "      <td>0</td>\n",
       "      <td>1</td>\n",
       "      <td>...</td>\n",
       "      <td>0</td>\n",
       "      <td>0</td>\n",
       "      <td>0</td>\n",
       "      <td>0</td>\n",
       "      <td>0</td>\n",
       "      <td>0</td>\n",
       "      <td>0</td>\n",
       "      <td>0</td>\n",
       "      <td>0</td>\n",
       "      <td>1</td>\n",
       "    </tr>\n",
       "    <tr>\n",
       "      <th>3</th>\n",
       "      <td>False</td>\n",
       "      <td>5000.00</td>\n",
       "      <td>29</td>\n",
       "      <td>0</td>\n",
       "      <td>0</td>\n",
       "      <td>0</td>\n",
       "      <td>0</td>\n",
       "      <td>0</td>\n",
       "      <td>0</td>\n",
       "      <td>0</td>\n",
       "      <td>...</td>\n",
       "      <td>0</td>\n",
       "      <td>0</td>\n",
       "      <td>0</td>\n",
       "      <td>0</td>\n",
       "      <td>0</td>\n",
       "      <td>0</td>\n",
       "      <td>0</td>\n",
       "      <td>0</td>\n",
       "      <td>0</td>\n",
       "      <td>1</td>\n",
       "    </tr>\n",
       "    <tr>\n",
       "      <th>5</th>\n",
       "      <td>True</td>\n",
       "      <td>50000.00</td>\n",
       "      <td>34</td>\n",
       "      <td>0</td>\n",
       "      <td>0</td>\n",
       "      <td>0</td>\n",
       "      <td>0</td>\n",
       "      <td>0</td>\n",
       "      <td>0</td>\n",
       "      <td>0</td>\n",
       "      <td>...</td>\n",
       "      <td>0</td>\n",
       "      <td>0</td>\n",
       "      <td>0</td>\n",
       "      <td>0</td>\n",
       "      <td>0</td>\n",
       "      <td>0</td>\n",
       "      <td>0</td>\n",
       "      <td>0</td>\n",
       "      <td>0</td>\n",
       "      <td>1</td>\n",
       "    </tr>\n",
       "  </tbody>\n",
       "</table>\n",
       "<p>5 rows × 55 columns</p>\n",
       "</div>"
      ],
      "text/plain": [
       "   state  usd_goal_real  Days  main_category_Art  main_category_Comics  \\\n",
       "0  False        1533.95    58                  0                     0   \n",
       "1  False       30000.00    59                  0                     0   \n",
       "2  False       45000.00    44                  0                     0   \n",
       "3  False        5000.00    29                  0                     0   \n",
       "5   True       50000.00    34                  0                     0   \n",
       "\n",
       "   main_category_Crafts  main_category_Dance  main_category_Design  \\\n",
       "0                     0                    0                     0   \n",
       "1                     0                    0                     0   \n",
       "2                     0                    0                     0   \n",
       "3                     0                    0                     0   \n",
       "5                     0                    0                     0   \n",
       "\n",
       "   main_category_Fashion  main_category_Film & Video  ...  country_JP  \\\n",
       "0                      0                           0  ...           0   \n",
       "1                      0                           1  ...           0   \n",
       "2                      0                           1  ...           0   \n",
       "3                      0                           0  ...           0   \n",
       "5                      0                           0  ...           0   \n",
       "\n",
       "   country_LU  country_MX  country_N,0\"  country_NL  country_NO  country_NZ  \\\n",
       "0           0           0             0           0           0           0   \n",
       "1           0           0             0           0           0           0   \n",
       "2           0           0             0           0           0           0   \n",
       "3           0           0             0           0           0           0   \n",
       "5           0           0             0           0           0           0   \n",
       "\n",
       "   country_SE  country_SG  country_US  \n",
       "0           0           0           0  \n",
       "1           0           0           1  \n",
       "2           0           0           1  \n",
       "3           0           0           1  \n",
       "5           0           0           1  \n",
       "\n",
       "[5 rows x 55 columns]"
      ]
     },
     "execution_count": 22,
     "metadata": {},
     "output_type": "execute_result"
    }
   ],
   "source": [
    "#use_col = [\"main_category\",\"currency\",\"country\"]\n",
    "\n",
    "df_date_dummy = pd.get_dummies(df_date)\n",
    "df_date_dummy.head()\n",
    "df_date_dummy.to_csv('Day1_date.csv')\n",
    "df_date_dummy.head()"
   ]
  },
  {
   "cell_type": "markdown",
   "metadata": {},
   "source": [
    "### 5.2 ロジスティック回帰で学習"
   ]
  },
  {
   "cell_type": "code",
   "execution_count": 19,
   "metadata": {},
   "outputs": [
    {
     "data": {
      "text/plain": [
       "SGDClassifier(alpha=0.0001, average=False, class_weight=None,\n",
       "              early_stopping=False, epsilon=0.1, eta0=0.0, fit_intercept=True,\n",
       "              l1_ratio=0.15, learning_rate='optimal', loss='log',\n",
       "              max_iter=10000, n_iter_no_change=5, n_jobs=None, penalty='none',\n",
       "              power_t=0.5, random_state=1234, shuffle=True, tol=0.001,\n",
       "              validation_fraction=0.1, verbose=0, warm_start=False)"
      ]
     },
     "execution_count": 19,
     "metadata": {},
     "output_type": "execute_result"
    }
   ],
   "source": [
    "y = df_date_dummy[\"state\"].values\n",
    "X = df_date_dummy.drop('state', axis=1).values\n",
    "\n",
    "clf = SGDClassifier(loss='log', penalty='none', max_iter=10000, fit_intercept=True, random_state=1234, tol=1e-3, )\n",
    "clf.fit(X, y)"
   ]
  },
  {
   "cell_type": "markdown",
   "metadata": {},
   "source": [
    "### 5.3 予測、正答率、クロス集計"
   ]
  },
  {
   "cell_type": "code",
   "execution_count": 20,
   "metadata": {},
   "outputs": [
    {
     "name": "stdout",
     "output_type": "stream",
     "text": [
      "対数尤度 = -5609822.601\n",
      "正答率 = 51.030%\n"
     ]
    }
   ],
   "source": [
    "# ラベルを予測\n",
    "y_est = clf.predict(X)\n",
    "\n",
    "# 確率値を得るa\n",
    "y_est_proba = clf.predict_proba(X)\n",
    "\n",
    "# 対数尤度を表示\n",
    "# log_lossという関数は、負の対数尤度を返す\n",
    "# normalizeという引数をTrueにすると、合計の対数尤度ではなく平均の対数尤度が計算される\n",
    "print('対数尤度 = {:.3f}'.format(- log_loss(y, y_est_proba, normalize=False))) \n",
    "\n",
    "# 正答率を表示\n",
    "print('正答率 = {:.3f}%'.format(100 * accuracy_score(y, y_est)))"
   ]
  },
  {
   "cell_type": "code",
   "execution_count": 21,
   "metadata": {},
   "outputs": [
    {
     "data": {
      "text/html": [
       "<div>\n",
       "<style scoped>\n",
       "    .dataframe tbody tr th:only-of-type {\n",
       "        vertical-align: middle;\n",
       "    }\n",
       "\n",
       "    .dataframe tbody tr th {\n",
       "        vertical-align: top;\n",
       "    }\n",
       "\n",
       "    .dataframe thead th {\n",
       "        text-align: right;\n",
       "    }\n",
       "</style>\n",
       "<table border=\"1\" class=\"dataframe\">\n",
       "  <thead>\n",
       "    <tr style=\"text-align: right;\">\n",
       "      <th></th>\n",
       "      <th>予測 = 成功</th>\n",
       "      <th>予測 = 失敗</th>\n",
       "    </tr>\n",
       "  </thead>\n",
       "  <tbody>\n",
       "    <tr>\n",
       "      <th>正解 = 成功</th>\n",
       "      <td>50196</td>\n",
       "      <td>147520</td>\n",
       "    </tr>\n",
       "    <tr>\n",
       "      <th>正解 = 失敗</th>\n",
       "      <td>14901</td>\n",
       "      <td>119055</td>\n",
       "    </tr>\n",
       "  </tbody>\n",
       "</table>\n",
       "</div>"
      ],
      "text/plain": [
       "         予測 = 成功  予測 = 失敗\n",
       "正解 = 成功    50196   147520\n",
       "正解 = 失敗    14901   119055"
      ]
     },
     "metadata": {},
     "output_type": "display_data"
    },
    {
     "name": "stdout",
     "output_type": "stream",
     "text": [
      "Accuracy: 0.51030\n",
      "precission : 0.44661\n",
      "recall : 0.88876\n"
     ]
    }
   ],
   "source": [
    "# 予測値と正解のクロス集計\n",
    "conf_mat = pd.DataFrame(confusion_matrix(y, y_est), \n",
    "                        index=['正解 = 成功', '正解 = 失敗'], \n",
    "                        columns=['予測 = 成功', '予測 = 失敗'])\n",
    "display(conf_mat)\n",
    "\n",
    "print(\"Accuracy: {:.5f}\".format(accuracy_score(y, y_est)))\n",
    "print(\"precission : {:.5f}\".format(precision_score(y, y_est)))\n",
    "print(\"recall : {:.5f}\".format(recall_score(y, y_est)))"
   ]
  },
  {
   "cell_type": "markdown",
   "metadata": {},
   "source": [
    "これからもっと良くしていこう"
   ]
  },
  {
   "cell_type": "code",
   "execution_count": null,
   "metadata": {},
   "outputs": [],
   "source": []
  }
 ],
 "metadata": {
  "kernelspec": {
   "display_name": "Python 3",
   "language": "python",
   "name": "python3"
  },
  "language_info": {
   "codemirror_mode": {
    "name": "ipython",
    "version": 3
   },
   "file_extension": ".py",
   "mimetype": "text/x-python",
   "name": "python",
   "nbconvert_exporter": "python",
   "pygments_lexer": "ipython3",
   "version": "3.7.4"
  }
 },
 "nbformat": 4,
 "nbformat_minor": 2
}
